{
 "cells": [
  {
   "cell_type": "markdown",
   "metadata": {},
   "source": [
    "SMTP\n",
    "===="
   ]
  },
  {
   "cell_type": "code",
   "execution_count": 156,
   "metadata": {},
   "outputs": [],
   "source": [
    "import smtplib\n",
    "from email.message import Message\n",
    "from email.mime.multipart import MIMEMultipart\n",
    "from email.mime.image import MIMEImage\n",
    "from email.mime.application import MIMEApplication\n",
    "from email.mime.text import MIMEText"
   ]
  },
  {
   "cell_type": "code",
   "execution_count": 171,
   "metadata": {},
   "outputs": [],
   "source": [
    "#email = smtplib.SMTP('mail.gmx.net', 587)\n",
    "email = smtplib.SMTP_SSL('mail.gmx.net', 465)"
   ]
  },
  {
   "cell_type": "code",
   "execution_count": 172,
   "metadata": {},
   "outputs": [
    {
     "data": {
      "text/plain": [
       "(250,\n",
       " b'gmx.com Hello [127.0.1.1] [84.56.187.38]\\n8BITMIME\\nAUTH LOGIN PLAIN\\nSIZE 69920427')"
      ]
     },
     "execution_count": 172,
     "metadata": {},
     "output_type": "execute_result"
    }
   ],
   "source": [
    "email.ehlo()"
   ]
  },
  {
   "cell_type": "code",
   "execution_count": 173,
   "metadata": {},
   "outputs": [],
   "source": [
    "#email.starttls()"
   ]
  },
  {
   "cell_type": "code",
   "execution_count": 174,
   "metadata": {},
   "outputs": [
    {
     "data": {
      "text/plain": [
       "(235, b'Authentication succeeded')"
      ]
     },
     "execution_count": 174,
     "metadata": {},
     "output_type": "execute_result"
    }
   ],
   "source": [
    "email.login('kraemer_johannes@gmx.de', 'Benutzer1')"
   ]
  },
  {
   "cell_type": "code",
   "execution_count": 179,
   "metadata": {},
   "outputs": [],
   "source": [
    "pathImg = '/home/johannes/Bilder/bild.jpg'\n",
    "pathPP = '/home/johannes/Bilder/assignment2.odt'\n",
    "img = ''\n",
    "pp = ''\n",
    "with open(pathImg, 'rb') as fp:\n",
    "    img = MIMEImage(fp.read())\n",
    "    img.add_header('Content-Disposition', 'attachment', filename=fp.name)\n",
    "fp.close()\n",
    "with open(pathPP, 'rb') as fp:\n",
    "    pp = MIMEApplication(fp.read(), _subtype='odt')\n",
    "    pp.add_header('Content-Disposition', 'attachment', filename='bar')\n",
    "fp.close()"
   ]
  },
  {
   "cell_type": "code",
   "execution_count": 180,
   "metadata": {},
   "outputs": [
    {
     "data": {
      "text/plain": [
       "{}"
      ]
     },
     "execution_count": 180,
     "metadata": {},
     "output_type": "execute_result"
    }
   ],
   "source": [
    "#email.sendmail('kraemer_johannes@gmx.de', 'jojokr94@gmail.com', 'Subject: Test.\\nDas hier ist ein Test mit dem SMTP Protokoll.')\n",
    "msg = MIMEMultipart()\n",
    "msg['From'] = 'kraemer_johannes@gmx.de'\n",
    "msg['To'] = 'jojokr94@gmail.com'\n",
    "msg['Subject'] = '3 SMTP-Test'\n",
    "msg.attach(MIMEText('HUHU Das ist ein kleiner Test. Diese Nachricht sollte im Body stehen.', 'plain'))\n",
    "msg.attach(img)\n",
    "msg.attach(pp)\n",
    "#email.send_message('Subject: SMTP Test\\n This is a smtp test using the Message-Object.', 'kraemer_johannes@gmx.de', 'jojokr94@gmail.com', None, None)\n",
    "email.send_message(msg)"
   ]
  },
  {
   "cell_type": "code",
   "execution_count": 117,
   "metadata": {},
   "outputs": [
    {
     "data": {
      "text/plain": [
       "(221, b'gmx.com Service closing transmission channel')"
      ]
     },
     "execution_count": 117,
     "metadata": {},
     "output_type": "execute_result"
    }
   ],
   "source": [
    "email.quit()"
   ]
  },
  {
   "cell_type": "markdown",
   "metadata": {},
   "source": [
    "POP3    \n",
    "=============="
   ]
  },
  {
   "cell_type": "code",
   "execution_count": 13,
   "metadata": {},
   "outputs": [],
   "source": [
    "import poplib"
   ]
  },
  {
   "cell_type": "code",
   "execution_count": 14,
   "metadata": {},
   "outputs": [],
   "source": [
    "server = poplib.POP3_SSL('pop.gmx.de')"
   ]
  },
  {
   "cell_type": "code",
   "execution_count": 15,
   "metadata": {},
   "outputs": [
    {
     "name": "stdout",
     "output_type": "stream",
     "text": [
      "b'+OK POP server ready H migmx004 1MZDzn-1gxq1T0Ko5-00VFOG'\n"
     ]
    }
   ],
   "source": [
    "begruessung = server.getwelcome()\n",
    "print(begruessung)"
   ]
  },
  {
   "cell_type": "code",
   "execution_count": 16,
   "metadata": {},
   "outputs": [
    {
     "data": {
      "text/plain": [
       "b'+OK password required for user \"kraemer_johannes@gmx.de\"'"
      ]
     },
     "execution_count": 16,
     "metadata": {},
     "output_type": "execute_result"
    }
   ],
   "source": [
    "server.user('kraemer_johannes@gmx.de')"
   ]
  },
  {
   "cell_type": "code",
   "execution_count": 17,
   "metadata": {},
   "outputs": [
    {
     "data": {
      "text/plain": [
       "b'+OK mailbox \"kraemer_johannes@gmx.de\" has 1553 messages (236369412 octets) H migmx004'"
      ]
     },
     "execution_count": 17,
     "metadata": {},
     "output_type": "execute_result"
    }
   ],
   "source": [
    "server.pass_('Benutzer1')"
   ]
  },
  {
   "cell_type": "code",
   "execution_count": 18,
   "metadata": {},
   "outputs": [
    {
     "data": {
      "text/plain": [
       "b'+OK POP server signing off'"
      ]
     },
     "execution_count": 18,
     "metadata": {},
     "output_type": "execute_result"
    }
   ],
   "source": [
    "server.quit()"
   ]
  },
  {
   "cell_type": "code",
   "execution_count": null,
   "metadata": {},
   "outputs": [],
   "source": []
  }
 ],
 "metadata": {
  "kernelspec": {
   "display_name": "Python 3",
   "language": "python",
   "name": "python3"
  },
  "language_info": {
   "codemirror_mode": {
    "name": "ipython",
    "version": 3
   },
   "file_extension": ".py",
   "mimetype": "text/x-python",
   "name": "python",
   "nbconvert_exporter": "python",
   "pygments_lexer": "ipython3",
   "version": "3.6.7"
  }
 },
 "nbformat": 4,
 "nbformat_minor": 2
}
